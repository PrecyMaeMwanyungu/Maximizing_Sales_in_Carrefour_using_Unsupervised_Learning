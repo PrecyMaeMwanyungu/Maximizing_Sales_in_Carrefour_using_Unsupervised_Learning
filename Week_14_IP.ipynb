{
  "nbformat": 4,
  "nbformat_minor": 0,
  "metadata": {
    "colab": {
      "name": "Week_14_IP",
      "provenance": [],
      "toc_visible": true,
      "authorship_tag": "ABX9TyOLVMytPBBRJH1n0OxiHqdK",
      "include_colab_link": true
    },
    "kernelspec": {
      "name": "ir",
      "display_name": "R"
    }
  },
  "cells": [
    {
      "cell_type": "markdown",
      "metadata": {
        "id": "view-in-github",
        "colab_type": "text"
      },
      "source": [
        "<a href=\"https://colab.research.google.com/github/PrecyMaeMwanyungu/Maximizing_Sales_in_Carrefour_using_Unsupervised_Learning/blob/master/Week_14_IP.ipynb\" target=\"_parent\"><img src=\"https://colab.research.google.com/assets/colab-badge.svg\" alt=\"Open In Colab\"/></a>"
      ]
    },
    {
      "cell_type": "markdown",
      "metadata": {
        "id": "RDz2o2wVJp_-",
        "colab_type": "text"
      },
      "source": [
        "## Defining our question\n",
        "> The marketing department of Carrefour Kenya is interested in knowing the most relevant marketing strategies that will result in the highest no. of sales. As data Scientists at Carrefour, we have been tasked to assist in giving solutions to the marketing depertment using the data available.\n",
        "\n",
        "\n",
        "### a) Specifying the Question\n",
        "\n",
        "> Apply unsupervised learning to assist the marketing department to increase number of sales.\n",
        "> Apply dimensionality reduction in the same process.\n",
        "\n",
        "\n",
        "### b) Defining the Metric for Success\n",
        "\n",
        "* Effectively cleaning our dataset.\n",
        "* Performing extensive exploratory data analysis where applicable.\n",
        "* Applying Dimensionality Reduction.\n",
        "* Selecting our features.\n",
        "* Applying Association rules.\n",
        "* Detecting anomalies in our data.\n",
        "\n",
        "\n",
        "### c) Understanding the context\n",
        "\n",
        "> Carrefour opened its first outlet in Kenya in 2016, and currently operates over 250 hypermarkets, supermarkets, and online stores in 15 countries across the region, with plans to extend into 38 countries in the Middle East, Central Asia, Africa and Russia. Carrefour currently operates 7 branches in Kenya and in order to be able to expand throughout Kenya, it's essential for it to maximize their salaes and in turn their profit to ensure expansion.\n",
        "\n",
        "### d) Recording the Experimental Design\n",
        "\n",
        "1) Business Understanding: Understanding the business problem.\n",
        "\n",
        "2) Reading the data: Getting access to our data and loading it using R.\n",
        "\n",
        "3) Checking our data: Understanding our variables and the data types of our data.\n",
        "\n",
        "4) Data cleaning: Checking for any missing values, duplicates, outliers and solving them.\n",
        "\n",
        "5) EDA: Visualizing our data using univariate, bivariate and multivariate analysis.\n",
        "\n",
        "6) Implementing the solution: Our business problem will be solved in four parts ;\n",
        "  * Part 1: Dimensionality Reduction\n",
        " \n",
        "  * Part 2: Feature Selection\n",
        "\n",
        "\n",
        "  * Part 3: Association Rules\n",
        "\n",
        "\n",
        "  * Part 4: Anomaly Detection\n",
        "\n",
        "7) Conclusion: Give specific recommendataions that will boost sales for the marketing department at Carrefour Kenya.\n",
        "\n"
      ]
    },
    {
      "cell_type": "markdown",
      "metadata": {
        "id": "aSQonoDgNXbS",
        "colab_type": "text"
      },
      "source": [
        "## Part 1: Dimensionality Reduction"
      ]
    },
    {
      "cell_type": "code",
      "metadata": {
        "id": "sALniS15NWzU",
        "colab_type": "code",
        "colab": {}
      },
      "source": [
        ""
      ],
      "execution_count": null,
      "outputs": []
    },
    {
      "cell_type": "code",
      "metadata": {
        "id": "D-3TR1GNvWWS",
        "colab_type": "code",
        "colab": {}
      },
      "source": [
        ""
      ],
      "execution_count": null,
      "outputs": []
    },
    {
      "cell_type": "markdown",
      "metadata": {
        "id": "ieqeSuC1Nhw4",
        "colab_type": "text"
      },
      "source": [
        "## Part 2: Feature Selection"
      ]
    },
    {
      "cell_type": "code",
      "metadata": {
        "id": "JjTDH5qZNmVE",
        "colab_type": "code",
        "colab": {}
      },
      "source": [
        ""
      ],
      "execution_count": null,
      "outputs": []
    },
    {
      "cell_type": "markdown",
      "metadata": {
        "id": "ZKEY9B9ANneo",
        "colab_type": "text"
      },
      "source": [
        "## Part 3: Association Rules"
      ]
    },
    {
      "cell_type": "code",
      "metadata": {
        "id": "nnVgg3vfNuqI",
        "colab_type": "code",
        "colab": {}
      },
      "source": [
        ""
      ],
      "execution_count": null,
      "outputs": []
    },
    {
      "cell_type": "markdown",
      "metadata": {
        "id": "XtrUCYB0NvWY",
        "colab_type": "text"
      },
      "source": [
        "## Part 4: Anomaly Detection"
      ]
    },
    {
      "cell_type": "code",
      "metadata": {
        "id": "-NsCdrNzNyAy",
        "colab_type": "code",
        "colab": {}
      },
      "source": [
        ""
      ],
      "execution_count": null,
      "outputs": []
    },
    {
      "cell_type": "markdown",
      "metadata": {
        "id": "a0wtcBmoNyzK",
        "colab_type": "text"
      },
      "source": [
        "## Conclusions and Recommendations\n",
        "\n",
        "\n",
        "---\n",
        "\n"
      ]
    },
    {
      "cell_type": "markdown",
      "metadata": {
        "id": "_-_c11FYOA4i",
        "colab_type": "text"
      },
      "source": [
        "## Follow up Questions\n",
        "\n",
        "\n",
        "---\n",
        "\n"
      ]
    }
  ]
}